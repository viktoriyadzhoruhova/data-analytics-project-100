{
 "cells": [
  {
   "cell_type": "code",
   "execution_count": 28,
   "id": "01f9c8f9-9e22-466b-bf71-ca8194c68844",
   "metadata": {},
   "outputs": [],
   "source": [
    "# Первый шаг\n",
    "# Импорт библиотек\n",
    "import pandas as pd\n",
    "import numpy as np\n",
    "import matplotlib.pyplot as plt\n",
    "import seaborn as sns\n"
   ]
  },
  {
   "cell_type": "code",
   "execution_count": 29,
   "id": "5fa17a8d-ae98-4136-9e10-20e1446e4d5f",
   "metadata": {},
   "outputs": [],
   "source": [
    "# Загрузка данных из CSV-файлов\n",
    "visits = pd.read_csv('visits_1k.csv')\n",
    "regs = pd.read_csv('regs_1k.csv')\n"
   ]
  },
  {
   "cell_type": "code",
   "execution_count": 27,
   "id": "d78bbbb9-36ba-4648-9ab8-401e8482a55a",
   "metadata": {},
   "outputs": [
    {
     "name": "stdout",
     "output_type": "stream",
     "text": [
      "Первые строки данных о посещениях:\n"
     ]
    },
    {
     "data": {
      "text/html": [
       "<div>\n",
       "<style scoped>\n",
       "    .dataframe tbody tr th:only-of-type {\n",
       "        vertical-align: middle;\n",
       "    }\n",
       "\n",
       "    .dataframe tbody tr th {\n",
       "        vertical-align: top;\n",
       "    }\n",
       "\n",
       "    .dataframe thead th {\n",
       "        text-align: right;\n",
       "    }\n",
       "</style>\n",
       "<table border=\"1\" class=\"dataframe\">\n",
       "  <thead>\n",
       "    <tr style=\"text-align: right;\">\n",
       "      <th></th>\n",
       "      <th>uuid</th>\n",
       "      <th>platform</th>\n",
       "      <th>user_agent</th>\n",
       "      <th>date</th>\n",
       "    </tr>\n",
       "  </thead>\n",
       "  <tbody>\n",
       "    <tr>\n",
       "      <th>0</th>\n",
       "      <td>1de9ea66-70d3-4a1f-8735-df5ef7697fb9</td>\n",
       "      <td>web</td>\n",
       "      <td>Mozilla/5.0 (Macintosh; Intel Mac OS X 10_11_2...</td>\n",
       "      <td>2023-03-01T13:29:22</td>\n",
       "    </tr>\n",
       "    <tr>\n",
       "      <th>1</th>\n",
       "      <td>f149f542-e935-4870-9734-6b4501eaf614</td>\n",
       "      <td>web</td>\n",
       "      <td>Mozilla/5.0 (X11; CrOS x86_64 8172.45.0) Apple...</td>\n",
       "      <td>2023-03-01T16:44:28</td>\n",
       "    </tr>\n",
       "    <tr>\n",
       "      <th>2</th>\n",
       "      <td>f149f542-e935-4870-9734-6b4501eaf614</td>\n",
       "      <td>web</td>\n",
       "      <td>Mozilla/5.0 (X11; CrOS x86_64 8172.45.0) Apple...</td>\n",
       "      <td>2023-03-06T06:12:36</td>\n",
       "    </tr>\n",
       "    <tr>\n",
       "      <th>3</th>\n",
       "      <td>08f0ebd4-950c-4dd9-8e97-b5bdf073eed1</td>\n",
       "      <td>web</td>\n",
       "      <td>Mozilla/5.0 (X11; Ubuntu; Linux x86_64; rv:109...</td>\n",
       "      <td>2023-03-01T20:16:37</td>\n",
       "    </tr>\n",
       "    <tr>\n",
       "      <th>4</th>\n",
       "      <td>08f0ebd4-950c-4dd9-8e97-b5bdf073eed1</td>\n",
       "      <td>web</td>\n",
       "      <td>Mozilla/5.0 (X11; Ubuntu; Linux x86_64; rv:109...</td>\n",
       "      <td>2023-03-05T17:42:47</td>\n",
       "    </tr>\n",
       "  </tbody>\n",
       "</table>\n",
       "</div>"
      ],
      "text/plain": [
       "                                   uuid platform  \\\n",
       "0  1de9ea66-70d3-4a1f-8735-df5ef7697fb9      web   \n",
       "1  f149f542-e935-4870-9734-6b4501eaf614      web   \n",
       "2  f149f542-e935-4870-9734-6b4501eaf614      web   \n",
       "3  08f0ebd4-950c-4dd9-8e97-b5bdf073eed1      web   \n",
       "4  08f0ebd4-950c-4dd9-8e97-b5bdf073eed1      web   \n",
       "\n",
       "                                          user_agent                 date  \n",
       "0  Mozilla/5.0 (Macintosh; Intel Mac OS X 10_11_2...  2023-03-01T13:29:22  \n",
       "1  Mozilla/5.0 (X11; CrOS x86_64 8172.45.0) Apple...  2023-03-01T16:44:28  \n",
       "2  Mozilla/5.0 (X11; CrOS x86_64 8172.45.0) Apple...  2023-03-06T06:12:36  \n",
       "3  Mozilla/5.0 (X11; Ubuntu; Linux x86_64; rv:109...  2023-03-01T20:16:37  \n",
       "4  Mozilla/5.0 (X11; Ubuntu; Linux x86_64; rv:109...  2023-03-05T17:42:47  "
      ]
     },
     "metadata": {},
     "output_type": "display_data"
    },
    {
     "name": "stdout",
     "output_type": "stream",
     "text": [
      "\n",
      "Первые строки данных о регистрациях:\n"
     ]
    },
    {
     "data": {
      "text/html": [
       "<div>\n",
       "<style scoped>\n",
       "    .dataframe tbody tr th:only-of-type {\n",
       "        vertical-align: middle;\n",
       "    }\n",
       "\n",
       "    .dataframe tbody tr th {\n",
       "        vertical-align: top;\n",
       "    }\n",
       "\n",
       "    .dataframe thead th {\n",
       "        text-align: right;\n",
       "    }\n",
       "</style>\n",
       "<table border=\"1\" class=\"dataframe\">\n",
       "  <thead>\n",
       "    <tr style=\"text-align: right;\">\n",
       "      <th></th>\n",
       "      <th>date</th>\n",
       "      <th>user_id</th>\n",
       "      <th>email</th>\n",
       "      <th>platform</th>\n",
       "      <th>registration_type</th>\n",
       "    </tr>\n",
       "  </thead>\n",
       "  <tbody>\n",
       "    <tr>\n",
       "      <th>0</th>\n",
       "      <td>2023-03-01T00:25:39</td>\n",
       "      <td>8838849</td>\n",
       "      <td>joseph95@example.org</td>\n",
       "      <td>web</td>\n",
       "      <td>google</td>\n",
       "    </tr>\n",
       "    <tr>\n",
       "      <th>1</th>\n",
       "      <td>2023-03-01T14:53:01</td>\n",
       "      <td>8741065</td>\n",
       "      <td>janetsuarez@example.net</td>\n",
       "      <td>web</td>\n",
       "      <td>yandex</td>\n",
       "    </tr>\n",
       "    <tr>\n",
       "      <th>2</th>\n",
       "      <td>2023-03-01T14:27:36</td>\n",
       "      <td>1866654</td>\n",
       "      <td>robert67@example.org</td>\n",
       "      <td>web</td>\n",
       "      <td>google</td>\n",
       "    </tr>\n",
       "    <tr>\n",
       "      <th>3</th>\n",
       "      <td>2023-03-01T02:42:34</td>\n",
       "      <td>1577584</td>\n",
       "      <td>elam@example.net</td>\n",
       "      <td>web</td>\n",
       "      <td>apple</td>\n",
       "    </tr>\n",
       "    <tr>\n",
       "      <th>4</th>\n",
       "      <td>2023-03-01T10:27:14</td>\n",
       "      <td>4765395</td>\n",
       "      <td>stephanie68@example.net</td>\n",
       "      <td>web</td>\n",
       "      <td>yandex</td>\n",
       "    </tr>\n",
       "  </tbody>\n",
       "</table>\n",
       "</div>"
      ],
      "text/plain": [
       "                  date  user_id                    email platform  \\\n",
       "0  2023-03-01T00:25:39  8838849     joseph95@example.org      web   \n",
       "1  2023-03-01T14:53:01  8741065  janetsuarez@example.net      web   \n",
       "2  2023-03-01T14:27:36  1866654     robert67@example.org      web   \n",
       "3  2023-03-01T02:42:34  1577584         elam@example.net      web   \n",
       "4  2023-03-01T10:27:14  4765395  stephanie68@example.net      web   \n",
       "\n",
       "  registration_type  \n",
       "0            google  \n",
       "1            yandex  \n",
       "2            google  \n",
       "3             apple  \n",
       "4            yandex  "
      ]
     },
     "metadata": {},
     "output_type": "display_data"
    }
   ],
   "source": [
    "# Предварительный просмотр данных\n",
    "print(\"Первые строки данных о посещениях:\")\n",
    "display(visits.head())\n",
    "\n",
    "print(\"\\nПервые строки данных о регистрациях:\")\n",
    "display(regs.head())"
   ]
  },
  {
   "cell_type": "code",
   "execution_count": 13,
   "id": "8190bbd1-3e7d-426e-8f71-72cd10954221",
   "metadata": {},
   "outputs": [
    {
     "name": "stdout",
     "output_type": "stream",
     "text": [
      "Информация о visits:\n",
      "<class 'pandas.core.frame.DataFrame'>\n",
      "RangeIndex: 1000 entries, 0 to 999\n",
      "Data columns (total 4 columns):\n",
      " #   Column      Non-Null Count  Dtype \n",
      "---  ------      --------------  ----- \n",
      " 0   uuid        1000 non-null   object\n",
      " 1   platform    1000 non-null   object\n",
      " 2   user_agent  1000 non-null   object\n",
      " 3   date        1000 non-null   object\n",
      "dtypes: object(4)\n",
      "memory usage: 31.4+ KB\n",
      "\n",
      "Информация о regs:\n",
      "<class 'pandas.core.frame.DataFrame'>\n",
      "RangeIndex: 1000 entries, 0 to 999\n",
      "Data columns (total 5 columns):\n",
      " #   Column             Non-Null Count  Dtype \n",
      "---  ------             --------------  ----- \n",
      " 0   date               1000 non-null   object\n",
      " 1   user_id            1000 non-null   int64 \n",
      " 2   email              1000 non-null   object\n",
      " 3   platform           1000 non-null   object\n",
      " 4   registration_type  1000 non-null   object\n",
      "dtypes: int64(1), object(4)\n",
      "memory usage: 39.2+ KB\n"
     ]
    }
   ],
   "source": [
    "# Информация о структуре данных\n",
    "\n",
    "print(\"Информация о visits:\")\n",
    "visits.info()\n",
    "\n",
    "print(\"\\nИнформация о regs:\")\n",
    "regs.info()"
   ]
  },
  {
   "cell_type": "code",
   "execution_count": 14,
   "id": "b2e7676c-1676-4ff6-b290-39475d521046",
   "metadata": {},
   "outputs": [
    {
     "name": "stdout",
     "output_type": "stream",
     "text": [
      "Уникальные значения в visits['platform']: ['web' 'android' 'ios']\n",
      "Уникальные значения в regs['platform']: ['web' 'android' 'ios']\n",
      "Типы регистрации в regs['registration_type']: ['google' 'yandex' 'apple' 'email']\n"
     ]
    }
   ],
   "source": [
    "# Уникальные значения\n",
    "\n",
    "print(\"Уникальные значения в visits['platform']:\", visits['platform'].unique())\n",
    "print(\"Уникальные значения в regs['platform']:\", regs['platform'].unique())\n",
    "print(\"Типы регистрации в regs['registration_type']:\", regs['registration_type'].unique())"
   ]
  },
  {
   "cell_type": "code",
   "execution_count": 15,
   "id": "7ef5dbe3-1332-474e-82b6-7f64a2a45d2f",
   "metadata": {},
   "outputs": [],
   "source": [
    "# Второй шаг\n",
    "# Импорт нужных библиотек\n",
    "import pandas as pd\n",
    "import requests"
   ]
  },
  {
   "cell_type": "code",
   "execution_count": 16,
   "id": "baf712f0-cd7e-49ae-98b2-451da7662510",
   "metadata": {},
   "outputs": [],
   "source": [
    "# Диапазон дат\n",
    "start_date = \"2023-03-01\"\n",
    "end_date = \"2023-09-01\"\n",
    "\n",
    "# URL для API\n",
    "visits_url = f\"https://data-charts-api.hexlet.app/visits?begin={start_date}&end={end_date}\"\n",
    "regs_url = f\"https://data-charts-api.hexlet.app/registrations?begin={start_date}&end={end_date}\"\n"
   ]
  },
  {
   "cell_type": "code",
   "execution_count": 17,
   "id": "6bb31abb-1610-42e1-a1bc-dfdafc146378",
   "metadata": {},
   "outputs": [],
   "source": [
    "# Запрос данных по визитам\n",
    "visits_response = requests.get(visits_url)\n",
    "visits_data = visits_response.json()\n",
    "visits = pd.DataFrame(visits_data)\n"
   ]
  },
  {
   "cell_type": "code",
   "execution_count": 18,
   "id": "efbebd24-2324-43c0-9167-fe8a34355c82",
   "metadata": {},
   "outputs": [],
   "source": [
    "# Запрос данных по регистрациям\n",
    "regs_response = requests.get(regs_url)\n",
    "regs_data = regs_response.json()\n",
    "regs = pd.DataFrame(regs_data)\n"
   ]
  },
  {
   "cell_type": "code",
   "execution_count": 19,
   "id": "da703d7b-a04a-414f-a530-eac58c67185c",
   "metadata": {},
   "outputs": [
    {
     "name": "stdout",
     "output_type": "stream",
     "text": [
      "Посещения:\n"
     ]
    },
    {
     "data": {
      "text/html": [
       "<div>\n",
       "<style scoped>\n",
       "    .dataframe tbody tr th:only-of-type {\n",
       "        vertical-align: middle;\n",
       "    }\n",
       "\n",
       "    .dataframe tbody tr th {\n",
       "        vertical-align: top;\n",
       "    }\n",
       "\n",
       "    .dataframe thead th {\n",
       "        text-align: right;\n",
       "    }\n",
       "</style>\n",
       "<table border=\"1\" class=\"dataframe\">\n",
       "  <thead>\n",
       "    <tr style=\"text-align: right;\">\n",
       "      <th></th>\n",
       "      <th>visit_id</th>\n",
       "      <th>platform</th>\n",
       "      <th>user_agent</th>\n",
       "      <th>datetime</th>\n",
       "    </tr>\n",
       "  </thead>\n",
       "  <tbody>\n",
       "    <tr>\n",
       "      <th>0</th>\n",
       "      <td>1de9ea66-70d3-4a1f-8735-df5ef7697fb9</td>\n",
       "      <td>web</td>\n",
       "      <td>Mozilla/5.0 (Windows NT 10.0; Win64; x64) Appl...</td>\n",
       "      <td>2023-03-01T10:36:22</td>\n",
       "    </tr>\n",
       "    <tr>\n",
       "      <th>1</th>\n",
       "      <td>f149f542-e935-4870-9734-6b4501eaf614</td>\n",
       "      <td>web</td>\n",
       "      <td>Mozilla/5.0 (Windows NT 10.0; WOW64; Trident/7...</td>\n",
       "      <td>2023-03-01T06:25:00</td>\n",
       "    </tr>\n",
       "    <tr>\n",
       "      <th>2</th>\n",
       "      <td>08f0ebd4-950c-4dd9-8e97-b5bdf073eed1</td>\n",
       "      <td>web</td>\n",
       "      <td>Mozilla/5.0 (Macintosh; Intel Mac OS X 10_11_2...</td>\n",
       "      <td>2023-03-01T10:26:13</td>\n",
       "    </tr>\n",
       "    <tr>\n",
       "      <th>3</th>\n",
       "      <td>19322fed-157c-49c6-b16e-2d5cabeb9592</td>\n",
       "      <td>web</td>\n",
       "      <td>Mozilla/5.0 (Macintosh; Intel Mac OS X 10_15_7...</td>\n",
       "      <td>2023-03-01T12:33:06</td>\n",
       "    </tr>\n",
       "    <tr>\n",
       "      <th>4</th>\n",
       "      <td>04762a22-3c9f-40c9-9ac9-6628c4381836</td>\n",
       "      <td>web</td>\n",
       "      <td>Mozilla/5.0 (Windows NT 10.0; Win64; x64) Appl...</td>\n",
       "      <td>2023-03-01T01:38:35</td>\n",
       "    </tr>\n",
       "  </tbody>\n",
       "</table>\n",
       "</div>"
      ],
      "text/plain": [
       "                               visit_id platform  \\\n",
       "0  1de9ea66-70d3-4a1f-8735-df5ef7697fb9      web   \n",
       "1  f149f542-e935-4870-9734-6b4501eaf614      web   \n",
       "2  08f0ebd4-950c-4dd9-8e97-b5bdf073eed1      web   \n",
       "3  19322fed-157c-49c6-b16e-2d5cabeb9592      web   \n",
       "4  04762a22-3c9f-40c9-9ac9-6628c4381836      web   \n",
       "\n",
       "                                          user_agent             datetime  \n",
       "0  Mozilla/5.0 (Windows NT 10.0; Win64; x64) Appl...  2023-03-01T10:36:22  \n",
       "1  Mozilla/5.0 (Windows NT 10.0; WOW64; Trident/7...  2023-03-01T06:25:00  \n",
       "2  Mozilla/5.0 (Macintosh; Intel Mac OS X 10_11_2...  2023-03-01T10:26:13  \n",
       "3  Mozilla/5.0 (Macintosh; Intel Mac OS X 10_15_7...  2023-03-01T12:33:06  \n",
       "4  Mozilla/5.0 (Windows NT 10.0; Win64; x64) Appl...  2023-03-01T01:38:35  "
      ]
     },
     "metadata": {},
     "output_type": "display_data"
    },
    {
     "name": "stdout",
     "output_type": "stream",
     "text": [
      "Регистрации:\n"
     ]
    },
    {
     "data": {
      "text/html": [
       "<div>\n",
       "<style scoped>\n",
       "    .dataframe tbody tr th:only-of-type {\n",
       "        vertical-align: middle;\n",
       "    }\n",
       "\n",
       "    .dataframe tbody tr th {\n",
       "        vertical-align: top;\n",
       "    }\n",
       "\n",
       "    .dataframe thead th {\n",
       "        text-align: right;\n",
       "    }\n",
       "</style>\n",
       "<table border=\"1\" class=\"dataframe\">\n",
       "  <thead>\n",
       "    <tr style=\"text-align: right;\">\n",
       "      <th></th>\n",
       "      <th>datetime</th>\n",
       "      <th>user_id</th>\n",
       "      <th>email</th>\n",
       "      <th>platform</th>\n",
       "      <th>registration_type</th>\n",
       "    </tr>\n",
       "  </thead>\n",
       "  <tbody>\n",
       "    <tr>\n",
       "      <th>0</th>\n",
       "      <td>2023-03-01T07:40:13</td>\n",
       "      <td>2e0f6bb8-b029-4f45-a786-2b53990d37f1</td>\n",
       "      <td>ebyrd@example.org</td>\n",
       "      <td>web</td>\n",
       "      <td>google</td>\n",
       "    </tr>\n",
       "    <tr>\n",
       "      <th>1</th>\n",
       "      <td>2023-03-01T13:14:00</td>\n",
       "      <td>f007f97c-9d8b-48b5-af08-119bb8f6d9b6</td>\n",
       "      <td>knightgerald@example.org</td>\n",
       "      <td>web</td>\n",
       "      <td>email</td>\n",
       "    </tr>\n",
       "    <tr>\n",
       "      <th>2</th>\n",
       "      <td>2023-03-01T03:05:50</td>\n",
       "      <td>24ff46ae-32b3-4a74-8f27-7cf0b8f32f15</td>\n",
       "      <td>cherylthompson@example.com</td>\n",
       "      <td>web</td>\n",
       "      <td>apple</td>\n",
       "    </tr>\n",
       "    <tr>\n",
       "      <th>3</th>\n",
       "      <td>2023-03-01T00:04:47</td>\n",
       "      <td>3e9914e1-5d73-4c23-b25d-b59a3aeb2b60</td>\n",
       "      <td>halldavid@example.org</td>\n",
       "      <td>web</td>\n",
       "      <td>email</td>\n",
       "    </tr>\n",
       "    <tr>\n",
       "      <th>4</th>\n",
       "      <td>2023-03-01T18:31:52</td>\n",
       "      <td>27f875fc-f8ce-4aeb-8722-0ecb283d0760</td>\n",
       "      <td>denise86@example.net</td>\n",
       "      <td>web</td>\n",
       "      <td>google</td>\n",
       "    </tr>\n",
       "  </tbody>\n",
       "</table>\n",
       "</div>"
      ],
      "text/plain": [
       "              datetime                               user_id  \\\n",
       "0  2023-03-01T07:40:13  2e0f6bb8-b029-4f45-a786-2b53990d37f1   \n",
       "1  2023-03-01T13:14:00  f007f97c-9d8b-48b5-af08-119bb8f6d9b6   \n",
       "2  2023-03-01T03:05:50  24ff46ae-32b3-4a74-8f27-7cf0b8f32f15   \n",
       "3  2023-03-01T00:04:47  3e9914e1-5d73-4c23-b25d-b59a3aeb2b60   \n",
       "4  2023-03-01T18:31:52  27f875fc-f8ce-4aeb-8722-0ecb283d0760   \n",
       "\n",
       "                        email platform registration_type  \n",
       "0           ebyrd@example.org      web            google  \n",
       "1    knightgerald@example.org      web             email  \n",
       "2  cherylthompson@example.com      web             apple  \n",
       "3       halldavid@example.org      web             email  \n",
       "4        denise86@example.net      web            google  "
      ]
     },
     "metadata": {},
     "output_type": "display_data"
    }
   ],
   "source": [
    "# Первые строки\n",
    "print(\"Посещения:\")\n",
    "display(visits.head())\n",
    "\n",
    "print(\"Регистрации:\")\n",
    "display(regs.head())"
   ]
  },
  {
   "cell_type": "code",
   "execution_count": 20,
   "id": "70fb3703-c455-4d45-bfa1-f122c124fcee",
   "metadata": {},
   "outputs": [
    {
     "name": "stdout",
     "output_type": "stream",
     "text": [
      "Информация о visits:\n",
      "<class 'pandas.core.frame.DataFrame'>\n",
      "RangeIndex: 263459 entries, 0 to 263458\n",
      "Data columns (total 4 columns):\n",
      " #   Column      Non-Null Count   Dtype \n",
      "---  ------      --------------   ----- \n",
      " 0   visit_id    263459 non-null  object\n",
      " 1   platform    263459 non-null  object\n",
      " 2   user_agent  263459 non-null  object\n",
      " 3   datetime    263459 non-null  object\n",
      "dtypes: object(4)\n",
      "memory usage: 8.0+ MB\n",
      "\n",
      "Информация о regs:\n",
      "<class 'pandas.core.frame.DataFrame'>\n",
      "RangeIndex: 21836 entries, 0 to 21835\n",
      "Data columns (total 5 columns):\n",
      " #   Column             Non-Null Count  Dtype \n",
      "---  ------             --------------  ----- \n",
      " 0   datetime           21836 non-null  object\n",
      " 1   user_id            21836 non-null  object\n",
      " 2   email              21836 non-null  object\n",
      " 3   platform           21836 non-null  object\n",
      " 4   registration_type  21836 non-null  object\n",
      "dtypes: object(5)\n",
      "memory usage: 853.1+ KB\n"
     ]
    }
   ],
   "source": [
    "# Проверка типов и структуры\n",
    "print(\"Информация о visits:\")\n",
    "visits.info()\n",
    "\n",
    "print(\"\\nИнформация о regs:\")\n",
    "regs.info()"
   ]
  },
  {
   "cell_type": "code",
   "execution_count": 21,
   "id": "57820c26-5dd1-4b1c-aacf-0bffdc04457b",
   "metadata": {},
   "outputs": [
    {
     "name": "stdout",
     "output_type": "stream",
     "text": [
      "Количество строк в visits: 263459\n",
      "Количество строк в regs: 21836\n"
     ]
    }
   ],
   "source": [
    "# Проверика на кол-во строк\n",
    "print(\"Количество строк в visits:\", len(visits))\n",
    "print(\"Количество строк в regs:\", len(regs))\n"
   ]
  },
  {
   "cell_type": "code",
   "execution_count": 30,
   "id": "6a0be9fe-bd8b-4d26-84d8-2257ebcc6100",
   "metadata": {},
   "outputs": [],
   "source": [
    "# Третий шаг\n",
    "# Импорт библиотек\n",
    "import pandas as pd\n",
    "import requests\n"
   ]
  },
  {
   "cell_type": "code",
   "execution_count": 31,
   "id": "dba5354c-8e9d-4a49-afa9-53030eebaf8c",
   "metadata": {},
   "outputs": [],
   "source": [
    "# Запрос данных\n",
    "start_date = \"2023-03-01\"\n",
    "end_date = \"2023-09-01\"\n"
   ]
  },
  {
   "cell_type": "code",
   "execution_count": 32,
   "id": "56312a88-ba63-4e64-a4ed-bfc6dd24fe08",
   "metadata": {},
   "outputs": [],
   "source": [
    "# URL для запросов\n",
    "visits_url = f\"https://data-charts-api.hexlet.app/visits?begin={start_date}&end={end_date}\"\n",
    "regs_url = f\"https://data-charts-api.hexlet.app/registrations?begin={start_date}&end={end_date}\""
   ]
  },
  {
   "cell_type": "code",
   "execution_count": 33,
   "id": "d59dd6e6-fe97-4003-b4f6-46fed4bd5d37",
   "metadata": {},
   "outputs": [],
   "source": [
    "# GET-запросы\n",
    "visits_response = requests.get(visits_url)\n",
    "regs_response = requests.get(regs_url)"
   ]
  },
  {
   "cell_type": "code",
   "execution_count": 34,
   "id": "0832b44f-8594-43b4-a10b-69ae487868fc",
   "metadata": {},
   "outputs": [],
   "source": [
    "# JSON в DataFrame\n",
    "visits = pd.DataFrame(visits_response.json())\n",
    "regs = pd.DataFrame(regs_response.json())"
   ]
  },
  {
   "cell_type": "code",
   "execution_count": 44,
   "id": "d2746b0c-db76-4081-8ab1-ec1f545c018c",
   "metadata": {},
   "outputs": [],
   "source": [
    "# Удаление ботов\n",
    "visits_clean = visits[~visits['user_agent'].str.contains('bot', case=False)].copy()\n"
   ]
  },
  {
   "cell_type": "code",
   "execution_count": 45,
   "id": "e2d23099-2304-43dd-baf2-53205c7076a2",
   "metadata": {},
   "outputs": [],
   "source": [
    "# Преобразование в дату\n",
    "visits_clean['date_group'] = pd.to_datetime(visits_clean['datetime']).dt.date\n",
    "regs['date_group'] = pd.to_datetime(regs['datetime']).dt.date\n"
   ]
  },
  {
   "cell_type": "code",
   "execution_count": 50,
   "id": "9b41e572-e0bb-478b-9d64-e3d06f7d0a24",
   "metadata": {},
   "outputs": [],
   "source": [
    "# Удаление дубликатов по visit_id\n",
    "visits_clean = visits_clean.drop_duplicates(subset='visit_id')\n"
   ]
  },
  {
   "cell_type": "code",
   "execution_count": 53,
   "id": "cd6d5587-0b59-4ac3-9a54-4a22ccd90395",
   "metadata": {},
   "outputs": [],
   "source": [
    "# Группировка визитов и рег-ий по дате и платформе\n",
    "visits_grouped = visits_clean.groupby(['date_group', 'platform']).agg(\n",
    "    visits=('visit_id', 'count')\n",
    ").reset_index()\n",
    "\n",
    "regs_grouped = regs.groupby(['date_group', 'platform']).agg(\n",
    "    registrations=('user_id', 'count')\n",
    ").reset_index()"
   ]
  },
  {
   "cell_type": "code",
   "execution_count": 54,
   "id": "14b919df-d4de-4e7d-b9ab-8fd9000366c5",
   "metadata": {},
   "outputs": [],
   "source": [
    "# Объединение визитов и регистраций\n",
    "conversion_df = pd.merge(visits_grouped, regs_grouped, how='left', on=['date_group', 'platform'])\n",
    "conversion_df['registrations'] = conversion_df['registrations'].fillna(0).astype(int)\n"
   ]
  },
  {
   "cell_type": "code",
   "execution_count": 55,
   "id": "f6bdde0f-610e-4941-8892-2fc6d76aa82a",
   "metadata": {},
   "outputs": [],
   "source": [
    "# Конверсия\n",
    "conversion_df['conversion'] = (conversion_df['registrations'] / conversion_df['visits']) * 100\n"
   ]
  },
  {
   "cell_type": "code",
   "execution_count": 56,
   "id": "5a3306aa-0877-492b-9516-046fa128042f",
   "metadata": {},
   "outputs": [],
   "source": [
    "# Сортировка по дате\n",
    "onversion_df = conversion_df.sort_values(by='date_group').reset_index(drop=True)\n"
   ]
  },
  {
   "cell_type": "code",
   "execution_count": 57,
   "id": "7735bb75-be97-4098-a322-47548ea7e90f",
   "metadata": {},
   "outputs": [],
   "source": [
    "# Сохранение в JSON\n",
    "conversion_df.to_json(\"conversion.json\")\n"
   ]
  },
  {
   "cell_type": "code",
   "execution_count": 2,
   "id": "a1bfbf89-7185-4bdc-ad74-fc5449c5c5ec",
   "metadata": {},
   "outputs": [],
   "source": [
    "# Четвертый шаг\n",
    "# Импорт библиотеки\n",
    "import pandas as pd"
   ]
  },
  {
   "cell_type": "code",
   "execution_count": 4,
   "id": "d8991d83-aefc-4547-baf0-3afca571be37",
   "metadata": {},
   "outputs": [],
   "source": [
    "# Загрузка датафрейма\n",
    "conversion_df = pd.read_json(\"conversion.json\")"
   ]
  },
  {
   "cell_type": "code",
   "execution_count": 5,
   "id": "64037827-8d40-4ed4-b7ee-254364187939",
   "metadata": {},
   "outputs": [],
   "source": [
    "# Загрузка данных о рекламе\n",
    "ads = pd.read_csv(\"ads.csv\")"
   ]
  },
  {
   "cell_type": "code",
   "execution_count": 6,
   "id": "d4f4e057-eaec-4ca1-80ef-1973bac05a5f",
   "metadata": {},
   "outputs": [],
   "source": [
    "# Преобразование даты\n",
    "ads['date_group'] = pd.to_datetime(ads['date']).dt.date"
   ]
  },
  {
   "cell_type": "code",
   "execution_count": 7,
   "id": "5df23e94-89e6-469d-8c91-b2094048c7d7",
   "metadata": {},
   "outputs": [],
   "source": [
    "# Группировка\n",
    "ads_grouped = ads.groupby('date_group').agg(\n",
    "    cost=('cost', 'sum'),\n",
    "    utm_campaign=('utm_campaign', 'last')\n",
    ").reset_index()"
   ]
  },
  {
   "cell_type": "code",
   "execution_count": 8,
   "id": "cfb4672c-6904-4ee4-ae86-ecea897811e5",
   "metadata": {},
   "outputs": [],
   "source": [
    "# Объединение с conversion_df\n",
    "ads_merged = pd.merge(conversion_df, ads_grouped, how='left', on='date_group')\n",
    "\n",
    "# Заполнение пропущенных значений\n",
    "ads_merged['cost'] = ads_merged['cost'].fillna(0).astype(int)\n",
    "ads_merged['utm_campaign'] = ads_merged['utm_campaign'].fillna('none')\n"
   ]
  },
  {
   "cell_type": "code",
   "execution_count": 9,
   "id": "f4fdc72f-d4c8-4f69-80b5-454598c50013",
   "metadata": {},
   "outputs": [],
   "source": [
    "# Сортировка по дате\n",
    "ads_merged = ads_merged.sort_values(by='date_group').reset_index(drop=True)\n"
   ]
  },
  {
   "cell_type": "code",
   "execution_count": 10,
   "id": "37b2371f-3391-420e-a78d-a15b8e7064a5",
   "metadata": {},
   "outputs": [],
   "source": [
    "# Сохранение\n",
    "ads_merged.to_json(\"ads.json\")"
   ]
  },
  {
   "cell_type": "code",
   "execution_count": null,
   "id": "2b714d6d-2b3d-486d-b8ef-671f1fe040fb",
   "metadata": {},
   "outputs": [],
   "source": []
  }
 ],
 "metadata": {
  "kernelspec": {
   "display_name": "Python 3 (ipykernel)",
   "language": "python",
   "name": "python3"
  },
  "language_info": {
   "codemirror_mode": {
    "name": "ipython",
    "version": 3
   },
   "file_extension": ".py",
   "mimetype": "text/x-python",
   "name": "python",
   "nbconvert_exporter": "python",
   "pygments_lexer": "ipython3",
   "version": "3.10.12"
  }
 },
 "nbformat": 4,
 "nbformat_minor": 5
}

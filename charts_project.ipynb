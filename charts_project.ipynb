{
 "cells": [
  {
   "cell_type": "code",
   "execution_count": 1,
   "id": "01f9c8f9-9e22-466b-bf71-ca8194c68844",
   "metadata": {},
   "outputs": [
    {
     "data": {
      "text/plain": [
       "False"
      ]
     },
     "execution_count": 1,
     "metadata": {},
     "output_type": "execute_result"
    }
   ],
   "source": [
    "import pandas as pd\n",
    "import numpy as np\n",
    "import matplotlib.pyplot as plt\n",
    "import seaborn as sns\n",
    "import requests\n",
    "import os\n",
    "from dotenv import load_dotenv\n",
    "\n",
    "load_dotenv()\n"
   ]
  },
  {
   "cell_type": "code",
   "execution_count": 2,
   "id": "5fa17a8d-ae98-4136-9e10-20e1446e4d5f",
   "metadata": {},
   "outputs": [],
   "source": [
    "visits = pd.read_csv('./visits_1k.csv')\n",
    "registrations = pd.read_csv('./regs_1k.csv')\n"
   ]
  },
  {
   "cell_type": "code",
   "execution_count": 5,
   "id": "d78bbbb9-36ba-4648-9ab8-401e8482a55a",
   "metadata": {},
   "outputs": [],
   "source": [
    "visits['date'] = pd.to_datetime(visits['date'])\n",
    "registrations['date'] = pd.to_datetime(registrations['date'])\n"
   ]
  },
  {
   "cell_type": "code",
   "execution_count": null,
   "id": "8190bbd1-3e7d-426e-8f71-72cd10954221",
   "metadata": {},
   "outputs": [],
   "source": [
    "import pandas as pd\n",
    "import requests\n",
    "import os\n",
    "from dotenv import load_dotenv\n",
    "\n",
    "load_dotenv()\n",
    "\n",
    "API_URL = os.getenv('API_URL')\n",
    "DATE_BEGIN = os.getenv('DATE_BEGIN')\n",
    "DATE_END = os.getenv('DATE_END')\n",
    "\n",
    "response_visits = requests.get(\n",
    "    f\"{API_URL}/visits\",\n",
    "    params={'begin': DATE_BEGIN, 'end': DATE_END}\n",
    ")\n",
    "visits_data = response_visits.json()\n",
    "visits_df = pd.DataFrame(visits_data)\n",
    "\n",
    "response_regs = requests.get(\n",
    "    f\"{API_URL}/registrations\",\n",
    "    params={'begin': DATE_BEGIN, 'end': DATE_END}\n",
    ")\n",
    "regs_data = response_regs.json()\n",
    "registrations_df = pd.DataFrame(regs_data)\n",
    "\n",
    "visits_df['datetime'] = pd.to_datetime(visits_df['datetime'])\n",
    "registrations_df['datetime'] = pd.to_datetime(registrations_df['datetime'])\n"
   ]
  },
  {
   "cell_type": "code",
   "execution_count": null,
   "id": "b2e7676c-1676-4ff6-b290-39475d521046",
   "metadata": {},
   "outputs": [],
   "source": []
  }
 ],
 "metadata": {
  "kernelspec": {
   "display_name": "Python 3 (ipykernel)",
   "language": "python",
   "name": "python3"
  },
  "language_info": {
   "codemirror_mode": {
    "name": "ipython",
    "version": 3
   },
   "file_extension": ".py",
   "mimetype": "text/x-python",
   "name": "python",
   "nbconvert_exporter": "python",
   "pygments_lexer": "ipython3",
   "version": "3.10.12"
  }
 },
 "nbformat": 4,
 "nbformat_minor": 5
}

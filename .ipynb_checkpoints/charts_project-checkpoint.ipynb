{
 "cells": [
  {
   "cell_type": "code",
   "execution_count": 1,
   "id": "01f9c8f9-9e22-466b-bf71-ca8194c68844",
   "metadata": {},
   "outputs": [],
   "source": [
    "import pandas as pd\n",
    "import requests\n",
    "import io\n"
   ]
  },
  {
   "cell_type": "code",
   "execution_count": 7,
   "id": "5fa17a8d-ae98-4136-9e10-20e1446e4d5f",
   "metadata": {},
   "outputs": [],
   "source": [
    "visits_df = pd.read_csv('visits_1k.csv')\n",
    "registrations_df = pd.read_csv('regs_1k.csv')\n"
   ]
  },
  {
   "cell_type": "code",
   "execution_count": 10,
   "id": "d78bbbb9-36ba-4648-9ab8-401e8482a55a",
   "metadata": {},
   "outputs": [
    {
     "name": "stdout",
     "output_type": "stream",
     "text": [
      "Описание visits_df:\n",
      "                                        uuid platform  \\\n",
      "count                                   1000     1000   \n",
      "unique                                   519        3   \n",
      "top     251a0926-ece3-4d77-aa42-ab569fdf9fe2      web   \n",
      "freq                                       4      954   \n",
      "\n",
      "                                               user_agent                 date  \n",
      "count                                                1000                 1000  \n",
      "unique                                                 28                  996  \n",
      "top     Mozilla/5.0 (Windows NT 10.0; Win64; x64) Appl...  2023-03-01T08:01:45  \n",
      "freq                                                   71                    2  \n",
      "\n",
      "Описание registrations_df:\n",
      "            user_id\n",
      "count  1.000000e+03\n",
      "mean   4.488623e+06\n",
      "std    2.620568e+06\n",
      "min    2.236800e+04\n",
      "25%    2.235489e+06\n",
      "50%    4.473044e+06\n",
      "75%    6.779707e+06\n",
      "max    8.881772e+06\n"
     ]
    }
   ],
   "source": [
    "#Предварительный анализ данных\n",
    "print(\"Описание visits_df:\")\n",
    "print(visits_df.describe())\n",
    "print(\"\\nОписание registrations_df:\")\n",
    "print(registrations_df.describe())\n"
   ]
  },
  {
   "cell_type": "code",
   "execution_count": 2,
   "id": "8190bbd1-3e7d-426e-8f71-72cd10954221",
   "metadata": {},
   "outputs": [
    {
     "name": "stdout",
     "output_type": "stream",
     "text": [
      "Первые 5 строк visits_df:\n",
      "                               visit_id platform  \\\n",
      "0  1de9ea66-70d3-4a1f-8735-df5ef7697fb9      web   \n",
      "1  f149f542-e935-4870-9734-6b4501eaf614      web   \n",
      "2  08f0ebd4-950c-4dd9-8e97-b5bdf073eed1      web   \n",
      "3  19322fed-157c-49c6-b16e-2d5cabeb9592      web   \n",
      "4  04762a22-3c9f-40c9-9ac9-6628c4381836      web   \n",
      "\n",
      "                                          user_agent            datetime  \n",
      "0  Mozilla/5.0 (Windows NT 10.0; Win64; x64) Appl... 2023-03-01 10:36:22  \n",
      "1  Mozilla/5.0 (Windows NT 10.0; WOW64; Trident/7... 2023-03-01 06:25:00  \n",
      "2  Mozilla/5.0 (Macintosh; Intel Mac OS X 10_11_2... 2023-03-01 10:26:13  \n",
      "3  Mozilla/5.0 (Macintosh; Intel Mac OS X 10_15_7... 2023-03-01 12:33:06  \n",
      "4  Mozilla/5.0 (Windows NT 10.0; Win64; x64) Appl... 2023-03-01 01:38:35  \n",
      "\n",
      "Первые 5 строк registrations_df:\n",
      "             datetime                               user_id  \\\n",
      "0 2023-03-01 07:40:13  2e0f6bb8-b029-4f45-a786-2b53990d37f1   \n",
      "1 2023-03-01 13:14:00  f007f97c-9d8b-48b5-af08-119bb8f6d9b6   \n",
      "2 2023-03-01 03:05:50  24ff46ae-32b3-4a74-8f27-7cf0b8f32f15   \n",
      "3 2023-03-01 00:04:47  3e9914e1-5d73-4c23-b25d-b59a3aeb2b60   \n",
      "4 2023-03-01 18:31:52  27f875fc-f8ce-4aeb-8722-0ecb283d0760   \n",
      "\n",
      "                        email platform registration_type  \n",
      "0           ebyrd@example.org      web            google  \n",
      "1    knightgerald@example.org      web             email  \n",
      "2  cherylthompson@example.com      web             apple  \n",
      "3       halldavid@example.org      web             email  \n",
      "4        denise86@example.net      web            google  \n"
     ]
    }
   ],
   "source": [
    "import pandas as pd\n",
    "import requests\n",
    "import os\n",
    "from dotenv import load_dotenv\n",
    "\n",
    "load_dotenv()\n",
    "\n",
    "API_URL = os.getenv('API_URL')\n",
    "DATE_BEGIN = os.getenv('DATE_BEGIN')\n",
    "DATE_END = os.getenv('DATE_END')\n",
    "\n",
    "def get_api_data(url):\n",
    "    try:\n",
    "        response = requests.get(url)\n",
    "        response.raise_for_status()\n",
    "\n",
    "        if response.status_code == 200:\n",
    "            return response.json()\n",
    "        else:\n",
    "            print(f\"Ошибка: API вернул код {response.status_code}\")\n",
    "            return None\n",
    "    except requests.exceptions.RequestException as e:\n",
    "        print(f\"Ошибка сети: {e}\")\n",
    "        return None\n",
    "        \n",
    "visits_url = f\"{API_URL}/visits?begin={DATE_BEGIN}&end={DATE_END}\"\n",
    "visits_data = get_api_data(visits_url)\n",
    "\n",
    "regs_url = f\"{API_URL}/registrations?begin={DATE_BEGIN}&end={DATE_END}\"\n",
    "regs_data = get_api_data(regs_url)\n",
    "\n",
    "if visits_data:\n",
    "    visits_df = pd.DataFrame(visits_data)\n",
    "    if 'datetime' in visits_df.columns:\n",
    "        visits_df['datetime'] = pd.to_datetime(visits_df['datetime'])\n",
    "    else:\n",
    "        print(\"Столбец 'datetime' не найден в данных о посещениях\")\n",
    "else:\n",
    "    visits_df = pd.DataFrame()\n",
    "    print(\"Не удалось получить данные о посещениях\")\n",
    "\n",
    "if regs_data:\n",
    "    registrations_df = pd.DataFrame(regs_data)\n",
    "    if 'datetime' in registrations_df.columns:\n",
    "        registrations_df['datetime'] = pd.to_datetime(registrations_df['datetime'])\n",
    "    else:\n",
    "        print(\"Столбец 'datetime' не найден в данных о регистрациях\")\n",
    "else:\n",
    "    registrations_df = pd.DataFrame()\n",
    "    print(\"Не удалось получить данные о регистрациях\")\n",
    "\n",
    "print(\"Первые 5 строк visits_df:\")\n",
    "print(visits_df.head())\n",
    "print(\"\\nПервые 5 строк registrations_df:\")\n",
    "print(registrations_df.head())\n"
   ]
  },
  {
   "cell_type": "code",
   "execution_count": 3,
   "id": "b2e7676c-1676-4ff6-b290-39475d521046",
   "metadata": {},
   "outputs": [
    {
     "name": "stdout",
     "output_type": "stream",
     "text": [
      "Количество визитов до фильтрации ботов: 263459\n",
      "Количество визитов после фильтрации ботов: 256077\n"
     ]
    }
   ],
   "source": [
    "visits_df_no_bots = visits_df[~visits_df['user_agent'].str.contains('bot', case=False)]\n",
    "\n",
    "# Предварительная проверка результатов\n",
    "print(f\"Количество визитов до фильтрации ботов: {len(visits_df)}\")\n",
    "print(f\"Количество визитов после фильтрации ботов: {len(visits_df_no_bots)}\")\n"
   ]
  },
  {
   "cell_type": "code",
   "execution_count": 4,
   "id": "7ef5dbe3-1332-474e-82b6-7f64a2a45d2f",
   "metadata": {},
   "outputs": [
    {
     "name": "stdout",
     "output_type": "stream",
     "text": [
      "Сгруппированные визиты:\n",
      "    datetime platform  visits\n",
      "0 2023-03-01  android      75\n",
      "1 2023-03-01      ios      22\n",
      "2 2023-03-01      web     844\n",
      "3 2023-03-02  android      67\n",
      "4 2023-03-02      ios      31\n",
      "\n",
      "Сгруппированные регистрации:\n",
      "    datetime platform  registrations\n",
      "0 2023-03-01  android             61\n",
      "1 2023-03-01      ios             18\n",
      "2 2023-03-01      web              8\n",
      "3 2023-03-02  android             59\n",
      "4 2023-03-02      ios             24\n"
     ]
    }
   ],
   "source": [
    "visits_grouped = visits_df_no_bots.groupby([pd.Grouper(key='datetime', freq='D'), 'platform']).size().reset_index(name='visits')\n",
    "\n",
    "registrations_grouped = registrations_df.groupby([pd.Grouper(key='datetime', freq='D'), 'platform']).size().reset_index(name='registrations')\n",
    "\n",
    "print(\"Сгруппированные визиты:\")\n",
    "print(visits_grouped.head())\n",
    "print(\"\\nСгруппированные регистрации:\")\n",
    "print(registrations_grouped.head())\n"
   ]
  },
  {
   "cell_type": "code",
   "execution_count": 5,
   "id": "baf712f0-cd7e-49ae-98b2-451da7662510",
   "metadata": {},
   "outputs": [
    {
     "name": "stdout",
     "output_type": "stream",
     "text": [
      "Объединенный DataFrame с конверсией:\n",
      "      date_group platform  visits  registrations  conversion\n",
      "0  1677628800000  android      75             61   81.333333\n",
      "1  1677628800000      ios      22             18   81.818182\n",
      "2  1677628800000      web     844              8    0.947867\n",
      "3  1677715200000  android      67             59   88.059701\n",
      "4  1677715200000      ios      31             24   77.419355\n"
     ]
    }
   ],
   "source": [
    "merged_df = pd.merge(visits_grouped, registrations_grouped, on=['datetime', 'platform'], how='left')\n",
    "\n",
    "merged_df['registrations'] = merged_df['registrations'].fillna(0)\n",
    "\n",
    "merged_df['conversion'] = (merged_df['registrations'] / merged_df['visits']) * 100\n",
    "\n",
    "merged_df = merged_df.rename(columns={'datetime': 'date_group'})\n",
    "\n",
    "merged_df = merged_df.sort_values(by='date_group')\n",
    "\n",
    "merged_df['date_group'] = merged_df['date_group'].astype('int64') // 10**6\n",
    "\n",
    "print(\"Объединенный DataFrame с конверсией:\")\n",
    "print(merged_df.head())\n"
   ]
  },
  {
   "cell_type": "code",
   "execution_count": 6,
   "id": "6bb31abb-1610-42e1-a1bc-dfdafc146378",
   "metadata": {},
   "outputs": [],
   "source": [
    "merged_df.to_json('conversion.json')\n"
   ]
  },
  {
   "cell_type": "code",
   "execution_count": null,
   "id": "efbebd24-2324-43c0-9167-fe8a34355c82",
   "metadata": {},
   "outputs": [],
   "source": []
  },
  {
   "cell_type": "code",
   "execution_count": 22,
   "id": "da703d7b-a04a-414f-a530-eac58c67185c",
   "metadata": {},
   "outputs": [],
   "source": []
  },
  {
   "cell_type": "code",
   "execution_count": 23,
   "id": "70fb3703-c455-4d45-bfa1-f122c124fcee",
   "metadata": {},
   "outputs": [],
   "source": []
  },
  {
   "cell_type": "code",
   "execution_count": null,
   "id": "57820c26-5dd1-4b1c-aacf-0bffdc04457b",
   "metadata": {},
   "outputs": [],
   "source": []
  }
 ],
 "metadata": {
  "kernelspec": {
   "display_name": "Python 3 (ipykernel)",
   "language": "python",
   "name": "python3"
  },
  "language_info": {
   "codemirror_mode": {
    "name": "ipython",
    "version": 3
   },
   "file_extension": ".py",
   "mimetype": "text/x-python",
   "name": "python",
   "nbconvert_exporter": "python",
   "pygments_lexer": "ipython3",
   "version": "3.10.12"
  }
 },
 "nbformat": 4,
 "nbformat_minor": 5
}
